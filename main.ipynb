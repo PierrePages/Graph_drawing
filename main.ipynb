{
 "cells": [
  {
   "cell_type": "code",
   "execution_count": 21,
   "metadata": {},
   "outputs": [],
   "source": [
    "import ast\n",
    "import matplotlib.pyplot as plt\n",
    "from matplotlib.ticker import MultipleLocator, FormatStrFormatter\n",
    "import math\n",
    "import numpy as np"
   ]
  },
  {
   "cell_type": "code",
   "execution_count": 35,
   "metadata": {},
   "outputs": [],
   "source": [
    "def read_file(name):\n",
    "    \"\"\"\n",
    "    Input a text file with a dictionnary like data format and output this file as a dictionnary\n",
    "\n",
    "    Parameters\n",
    "    ----------\n",
    "    name : str\n",
    "        file path\n",
    "\n",
    "    \"\"\"\n",
    "    file = open(name, \"r\")\n",
    "\n",
    "    contents = file.read()\n",
    "    dictionary = ast.literal_eval(contents)\n",
    "\n",
    "    file.close()\n",
    "    return dictionary\n",
    "    \n",
    "data = read_file('datasets/test-1.txt')"
   ]
  },
  {
   "cell_type": "code",
   "execution_count": 37,
   "metadata": {},
   "outputs": [
    {
     "data": {
      "text/plain": [
       "[[[1, 0], [0, 2]],\n",
       " [[1, 0], [2, 2]],\n",
       " [[0, 2], [2, 2]],\n",
       " [[0, 2], [0, 4], [1, 4]],\n",
       " [[2, 2], [2, 3], [1, 3], [1, 4]]]"
      ]
     },
     "execution_count": 37,
     "metadata": {},
     "output_type": "execute_result"
    }
   ],
   "source": [
    "def get_point_coord(data):\n",
    "    \"\"\"\n",
    "    Input a dictionnary with nodes, extract the valSues of each nodes (x, y and id) and output them into a list format such as : \n",
    "    x_point_list [x1,x2...xn]\n",
    "    y_point_list [y1,y2...yn]\n",
    "    id_point_list [id1,id2...idn]\n",
    "\n",
    "    Parameters\n",
    "    ----------\n",
    "    data : str\n",
    "        the dictionnary containing the nodes informations\n",
    "\n",
    "    \"\"\"\n",
    "    x_cord_list = []\n",
    "    y_cord_list = []\n",
    "    id_cord_list = []\n",
    "    node_list = data.get('nodes')\n",
    "    for node in node_list:\n",
    "        x_cord_list.append(node.get('x'))\n",
    "        y_cord_list.append(node.get('y'))\n",
    "        id_cord_list.append(node.get('id'))\n",
    "    return x_cord_list, y_cord_list, id_cord_list\n",
    "\n",
    "def get_edges_coord(data):\n",
    "\n",
    "\n",
    "    \"\"\"\n",
    "    Input a dictionnary with nodes and edges, extract for each edges : the id of the starting point (is matched with the coordinate of the point), \n",
    "    the id of the ending point (is matched with the coordinate of the point) and the coordinates of the bends and output it in this format : \n",
    "\n",
    "    edge_list = [[[x_11, x_12, ..., x_1n],[y_11, y_12, ..., y_1n]], ... ,[[x_n1, x_n2, ..., x_nn],[y_n1, y_n2, ..., y_nn]]]\n",
    "\n",
    "    Parameters\n",
    "    ----------\n",
    "    data : str\n",
    "        the dictionnary containing the nodes informations\n",
    "\n",
    "    \"\"\"\n",
    "    \n",
    "    node_x_cord_list = []\n",
    "    node_y_cord_list = []\n",
    "    node_list = data.get('nodes')\n",
    "    for node in node_list:\n",
    "        node_x_cord_list.append(node.get('x'))\n",
    "        node_y_cord_list.append(node.get('y'))\n",
    "    \n",
    "    edge_list = []\n",
    "    edge_description = data.get('edges')\n",
    "\n",
    "    for edge in edge_description:\n",
    "        cord_list = []\n",
    "        start = edge.get('source')\n",
    "        stop  = edge.get('target')\n",
    "        bend_list = edge.get('bends')\n",
    "\n",
    "        if bend_list != None:\n",
    "            cord_list.append([node_x_cord_list[start],node_y_cord_list[start]])\n",
    "            for bend in bend_list:\n",
    "                cord_list.append([bend.get('x'),bend.get('y')])\n",
    "\n",
    "            cord_list.append([node_x_cord_list[stop],node_y_cord_list[stop]])\n",
    "\n",
    "            edge_list.append(cord_list)\n",
    "        else:\n",
    "            cord_list.append([node_x_cord_list[start],node_y_cord_list[start]])\n",
    "            cord_list.append([node_x_cord_list[stop],node_y_cord_list[stop]])\n",
    "            edge_list.append(cord_list)\n",
    "\n",
    "    return edge_list\n"
   ]
  },
  {
   "cell_type": "code",
   "execution_count": 38,
   "metadata": {},
   "outputs": [
    {
     "data": {
      "image/png": "[encoded data removed]",
      "text/plain": [
       "<Figure size 720x720 with 1 Axes>"
      ]
     },
     "metadata": {
      "needs_background": "light"
     },
     "output_type": "display_data"
    }
   ],
   "source": [
    "def show_graph(data):\n",
    "    x_point_list, y_point_list, id_point_list = get_point_coord(data)\n",
    "    plt.rcParams[\"figure.figsize\"] = [10, 10]\n",
    "    plt.rcParams[\"figure.autolayout\"] = True\n",
    "\n",
    "    plt.plot(x_point_list, y_point_list, 'o')\n",
    "\n",
    "    for i, j in zip(x_point_list, y_point_list):\n",
    "        plt.text(i, j+0.5, '({}, {})'.format(i, j))\n",
    "\n",
    "    for edge in get_edges_coord(data):\n",
    "        x_coord = []\n",
    "        y_coord = []\n",
    "        for point in edge:\n",
    "            x_coord.append(point[0])\n",
    "            y_coord.append(point[1])\n",
    "        plt.plot(x_coord, y_coord)\n",
    "    plt.show()\n",
    "\n",
    "show_graph(data)"
   ]
  },
  {
   "cell_type": "code",
   "execution_count": 39,
   "metadata": {},
   "outputs": [
    {
     "name": "stdout",
     "output_type": "stream",
     "text": [
      "the coordinates are valid ! \n"
     ]
    },
    {
     "data": {
      "text/plain": [
       "True"
      ]
     },
     "execution_count": 39,
     "metadata": {},
     "output_type": "execute_result"
    }
   ],
   "source": [
    "def check_int_coordinates(data) :\n",
    "\n",
    "    x_cord_list = []\n",
    "    y_cord_list = []\n",
    "    id_cord_list = []\n",
    "    node_list = data.get('nodes')\n",
    "    for node in node_list:\n",
    "        x_cord_list.append(node.get('x'))\n",
    "        y_cord_list.append(node.get('y'))\n",
    "        id_cord_list.append(node.get('id'))\n",
    "    \n",
    "    valid = True\n",
    "\n",
    "    for value in x_cord_list:   \n",
    "        if isinstance(value, int) == False:\n",
    "            valid = False\n",
    "    \n",
    "    for value in y_cord_list:   \n",
    "        if isinstance(value, int) == False:\n",
    "            valid = False\n",
    "    \n",
    "    if valid:\n",
    "        print('the coordinates are valid ! ')\n",
    "    else:\n",
    "        print('the coordinates are not valid ! ')\n",
    "\n",
    "    return valid\n",
    "\n",
    "check_int_coordinates(data)"
   ]
  },
  {
   "cell_type": "code",
   "execution_count": 40,
   "metadata": {},
   "outputs": [
    {
     "name": "stdout",
     "output_type": "stream",
     "text": [
      "there is  2 bend(s) and you wanted a maximum of 5 bend.\n"
     ]
    },
    {
     "data": {
      "text/plain": [
       "True"
      ]
     },
     "execution_count": 40,
     "metadata": {},
     "output_type": "execute_result"
    }
   ],
   "source": [
    "def number_of_bend(data, max_bend_wanted) :\n",
    "\n",
    "    max_bend = 0\n",
    "\n",
    "    node_x_cord_list = []\n",
    "    node_y_cord_list = []\n",
    "    node_list = data.get('nodes')\n",
    "    for node in node_list:\n",
    "        node_x_cord_list.append(node.get('x'))\n",
    "        node_y_cord_list.append(node.get('y'))\n",
    "    \n",
    "    edge_list = []\n",
    "    edge_description = data.get('edges')\n",
    "\n",
    "    for edge in edge_description:\n",
    "        cord_list = []\n",
    "        start = edge.get('source')\n",
    "        stop  = edge.get('target')\n",
    "        bend_list = edge.get('bends')\n",
    "\n",
    "        bend_actual = 0\n",
    "\n",
    "        if bend_list != None:\n",
    "            \n",
    "            cord_list.append([node_x_cord_list[start],node_y_cord_list[start]])\n",
    "            for bend in bend_list:\n",
    "                cord_list.append([bend.get('x'),bend.get('y')])\n",
    "                bend_actual +=1\n",
    "            if bend_actual > max_bend:\n",
    "                max_bend = bend_actual\n",
    "\n",
    "            cord_list.append([node_x_cord_list[stop],node_y_cord_list[stop]])\n",
    "\n",
    "            edge_list.append(cord_list)\n",
    "        else:\n",
    "            cord_list.append([node_x_cord_list[start],node_y_cord_list[start]])\n",
    "            cord_list.append([node_x_cord_list[stop],node_y_cord_list[stop]])\n",
    "            edge_list.append(cord_list)\n",
    "    \n",
    "    print('there is ',max_bend, 'bend(s) and you wanted a maximum of', max_bend_wanted, 'bend.')\n",
    "    return max_bend < max_bend_wanted\n",
    "\n",
    "number_of_bend(data,5)\n",
    "    "
   ]
  },
  {
   "cell_type": "code",
   "execution_count": 41,
   "metadata": {},
   "outputs": [
    {
     "name": "stdout",
     "output_type": "stream",
     "text": [
      "there is no intersection\n"
     ]
    },
    {
     "data": {
      "text/plain": [
       "False"
      ]
     },
     "execution_count": 41,
     "metadata": {},
     "output_type": "execute_result"
    }
   ],
   "source": [
    "\n",
    "def get_orientation(point1, point2, point3):\n",
    "    \n",
    "    x1,y1 = point1\n",
    "    x2,y2 = point2\n",
    "    x3,y3 = point3\n",
    "\n",
    "    result = (y2 - y1)*(x3 - x2) - (y3 - y2)*(x2 - x1)\n",
    "\n",
    "    if point1 == point2 or point1 == point3:\n",
    "        result =0\n",
    "\n",
    "    if result < 0:\n",
    "        return 'counterclockwise'\n",
    "    elif result > 0 : \n",
    "        return 'clockwise'\n",
    "\n",
    "def segment_intersection(segment1, segment2):\n",
    "    point1, point2 = segment1\n",
    "    point3, point4 = segment2\n",
    "\n",
    "    if get_orientation(point1, point2, point3) != get_orientation(point1, point2, point4):\n",
    "        if get_orientation(point3, point4, point1) != get_orientation(point3, point4, point2):\n",
    "            return True\n",
    "        else: \n",
    "            return False\n",
    "    else:\n",
    "        return False\n",
    "\n",
    "\n",
    "def edges_crossing(data):\n",
    "    edge_list = get_edges_coord(data)\n",
    "    segment_list = []\n",
    "\n",
    "    for edge in edge_list:\n",
    "        for i in range(len(edge)-1):\n",
    "            segment_list.append([edge[i],edge[i+1]])\n",
    "    segment_list\n",
    "\n",
    "    \n",
    "    result = False\n",
    "    for segment1 in segment_list:\n",
    "        for segment2 in segment_list:\n",
    "            point1, point2 = segment1\n",
    "            point3, point4 = segment1\n",
    "\n",
    "            if point1 != point3 and point1 != point4 and point2 != point3 and point3 != point4:\n",
    "                if segment_intersection(segment1, segment2) == True:\n",
    "                    print('there is an intersection between',segment1, 'and',segment2)\n",
    "                    result = True\n",
    "                    return result\n",
    "    if result == False:\n",
    "        print('there is no intersection')\n",
    "        return result\n",
    "\n",
    "edges_crossing(data)        "
   ]
  },
  {
   "cell_type": "code",
   "execution_count": 42,
   "metadata": {},
   "outputs": [
    {
     "data": {
      "text/plain": [
       "1.5"
      ]
     },
     "execution_count": 42,
     "metadata": {},
     "output_type": "execute_result"
    }
   ],
   "source": [
    "def euclidian_distance(point1, point2):\n",
    "    x1,y1 = point1\n",
    "    x2, y2 = point2\n",
    "    return math.sqrt((x2-x1)**2 + (y2-y1)**2)\n",
    "\n",
    "def compute_edge_length(data):\n",
    "    edge_list = get_edges_coord(data)\n",
    "    edge_length_list = []\n",
    "\n",
    "    for edge in edge_list:\n",
    "        edge_length = 0\n",
    "        for i in range(len(edge)-1):\n",
    "            point1 = edge[i][0],edge[i][1]\n",
    "            point2 = edge[i+1][0], edge[i+1][1]\n",
    "            edge_length += euclidian_distance(point1, point2)\n",
    "        edge_length_list.append(edge_length)\n",
    "    return edge_length_list\n",
    "\n",
    "def compute_ratio(data):\n",
    "    edge_length = compute_edge_length(data)\n",
    "\n",
    "    minima = min(edge_length)\n",
    "    maxima = max(edge_length)\n",
    "\n",
    "    return maxima/minima\n",
    "\n",
    "compute_ratio(data)"
   ]
  },
  {
   "cell_type": "code",
   "execution_count": 54,
   "metadata": {},
   "outputs": [
    {
     "data": {
      "text/plain": [
       "[[[0, 2], [2, 2]],\n",
       " [[1, 0], [2, 2], [1, 4]],\n",
       " [[1, 0], [0, 2], [1, 4]],\n",
       " [[0, 2], [2, 2]]]"
      ]
     },
     "execution_count": 54,
     "metadata": {},
     "output_type": "execute_result"
    }
   ],
   "source": [
    "def find_neighbour(data):\n",
    "    vertex_list = []\n",
    "    neighbour_list = []\n",
    "    edge_list = get_edges_coord(data)\n",
    "    node_list = data.get('nodes')\n",
    "    for node in node_list:\n",
    "        vertex_list.append([node.get('x'), node.get('y')])\n",
    "    \n",
    "\n",
    "    for vertex in vertex_list:\n",
    "        neighbour = []\n",
    "        for edge in edge_list:\n",
    "            first_point = edge[0]\n",
    "            last_point = edge[-1]\n",
    "\n",
    "            if vertex == first_point:\n",
    "                neighbour.append(last_point)\n",
    "            if vertex == last_point:\n",
    "                neighbour.append(first_point)\n",
    "        neighbour_list.append(neighbour)\n",
    "    \n",
    "    return neighbour_list\n",
    "neighbour_list = find_neighbour(data)\n",
    "neighbour_list"
   ]
  },
  {
   "cell_type": "code",
   "execution_count": 46,
   "metadata": {},
   "outputs": [
    {
     "data": {
      "image/png": "[encoded data removed]",
      "text/plain": [
       "<Figure size 720x720 with 1 Axes>"
      ]
     },
     "metadata": {
      "needs_background": "light"
     },
     "output_type": "display_data"
    }
   ],
   "source": [
    "show_graph(data)"
   ]
  },
  {
   "cell_type": "code",
   "execution_count": 30,
   "metadata": {},
   "outputs": [],
   "source": [
    "def compute_centroid(polygon):\n",
    "    x_cords = []\n",
    "    y_cords = []\n",
    "    for point in polygon:\n",
    "        x_cords.append(point[0])\n",
    "        y_cords.append(point[1])\n",
    "    x_centroid = 0\n",
    "    y_centroid = 0\n",
    "    for x in x_cords:\n",
    "        x_centroid += int(x)\n",
    "\n",
    "    for y in y_cords:\n",
    "        y_centroid +=int(y)\n",
    "    \n",
    "    \n",
    "    return (x_centroid/len(polygon), y_centroid/len(polygon))\n",
    "\n"
   ]
  },
  {
   "cell_type": "code",
   "execution_count": 43,
   "metadata": {},
   "outputs": [
    {
     "data": {
      "text/plain": [
       "[[(0, 2), (2, 2)], [(1, 0), (2, 2)], [(1, 0), (0, 2)], []]"
      ]
     },
     "execution_count": 43,
     "metadata": {},
     "output_type": "execute_result"
    }
   ],
   "source": [
    "neighbour_list"
   ]
  },
  {
   "cell_type": "code",
   "execution_count": 44,
   "metadata": {},
   "outputs": [
    {
     "data": {
      "text/plain": [
       "([1, 0, 2, 1], [0, 2, 2, 4], [0, 1, 2, 3])"
      ]
     },
     "execution_count": 44,
     "metadata": {},
     "output_type": "execute_result"
    }
   ],
   "source": [
    "vertex_list"
   ]
  },
  {
   "cell_type": "code",
   "execution_count": null,
   "metadata": {},
   "outputs": [],
   "source": []
  }
 ],
 "metadata": {
  "kernelspec": {
   "display_name": "Python 3.10.5 64-bit",
   "language": "python",
   "name": "python3"
  },
  "language_info": {
   "codemirror_mode": {
    "name": "ipython",
    "version": 3
   },
   "file_extension": ".py",
   "mimetype": "text/x-python",
   "name": "python",
   "nbconvert_exporter": "python",
   "pygments_lexer": "ipython3",
   "version": "3.10.5"
  },
  "orig_nbformat": 4,
  "vscode": {
   "interpreter": {
    "hash": "a957044d351fb82484f120dca125b0411d05a6141ed71a6e42fbd3678d62e425"
   }
  }
 },
 "nbformat": 4,
 "nbformat_minor": 2
}
