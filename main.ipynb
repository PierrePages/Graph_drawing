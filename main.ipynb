{
 "cells": [
  {
   "cell_type": "code",
   "execution_count": 172,
   "metadata": {},
   "outputs": [],
   "source": [
    "import ast\n",
    "import matplotlib.pyplot as plt\n",
    "from matplotlib.ticker import MultipleLocator, FormatStrFormatter\n",
    "import math\n",
    "import numpy as np"
   ]
  },
  {
   "cell_type": "code",
   "execution_count": 173,
   "metadata": {},
   "outputs": [],
   "source": [
    "def read_file(name):\n",
    "    \"\"\"\n",
    "    Input a text file with a dictionnary like data format and output this file as a dictionnary\n",
    "\n",
    "    Parameters\n",
    "    ----------\n",
    "    name : str\n",
    "        file path\n",
    "\n",
    "    \"\"\"\n",
    "    file = open(name, \"r\")\n",
    "\n",
    "    contents = file.read()\n",
    "    dictionary = ast.literal_eval(contents)\n",
    "\n",
    "    file.close()\n",
    "    return dictionary\n",
    "    \n",
    "data = read_file('datasets/auto21-1.txt')"
   ]
  },
  {
   "cell_type": "code",
   "execution_count": 174,
   "metadata": {},
   "outputs": [],
   "source": [
    "def get_point_coord(data):\n",
    "    \"\"\"\n",
    "    Input a dictionnary with nodes, extract the valSues of each nodes (x, y and id) and output them into a list format such as : \n",
    "    x_point_list [x1,x2...xn]\n",
    "    y_point_list [y1,y2...yn]\n",
    "    id_point_list [id1,id2...idn]\n",
    "\n",
    "    Parameters\n",
    "    ----------\n",
    "    data : str\n",
    "        the dictionnary containing the nodes informations\n",
    "\n",
    "    \"\"\"\n",
    "    x_cord_list = []\n",
    "    y_cord_list = []\n",
    "    id_cord_list = []\n",
    "    node_list = data.get('nodes')\n",
    "    for node in node_list:\n",
    "        x_cord_list.append(node.get('x'))\n",
    "        y_cord_list.append(node.get('y'))\n",
    "        id_cord_list.append(node.get('id'))\n",
    "    return x_cord_list, y_cord_list, id_cord_list\n",
    "\n",
    "def get_edges_coord(data):\n",
    "    \"\"\"\n",
    "    Input a dictionnary with nodes and edges, extract for each edges : the id of the starting point (is matched with the coordinate of the point), \n",
    "    the id of the ending point (is matched with the coordinate of the point) and the coordinates of the bends and output it in this format : \n",
    "\n",
    "    edge_list = [[[x_11, x_12, ..., x_1n],[y_11, y_12, ..., y_1n]], ... ,[[x_n1, x_n2, ..., x_nn],[y_n1, y_n2, ..., y_nn]]]\n",
    "\n",
    "    Parameters\n",
    "    ----------\n",
    "    data : str\n",
    "        the dictionnary containing the nodes informations\n",
    "\n",
    "    \"\"\"\n",
    "    \n",
    "    node_x_cord_list = []\n",
    "    node_y_cord_list = []\n",
    "    node_list = data.get('nodes')\n",
    "    for node in node_list:\n",
    "        node_x_cord_list.append(node.get('x'))\n",
    "        node_y_cord_list.append(node.get('y'))\n",
    "    \n",
    "    edge_list = []\n",
    "    edge_description = data.get('edges')\n",
    "\n",
    "    for edge in edge_description:\n",
    "        cord_list = []\n",
    "        start = edge.get('source')\n",
    "        stop  = edge.get('target')\n",
    "        bend_list = edge.get('bends')\n",
    "\n",
    "        if bend_list != None:\n",
    "            cord_list.append([node_x_cord_list[start],node_y_cord_list[start]])\n",
    "            for bend in bend_list:\n",
    "                cord_list.append([bend.get('x'),bend.get('y')])\n",
    "\n",
    "            cord_list.append([node_x_cord_list[stop],node_y_cord_list[stop]])\n",
    "\n",
    "            edge_list.append(cord_list)\n",
    "        else:\n",
    "            cord_list.append([node_x_cord_list[start],node_y_cord_list[start]])\n",
    "            cord_list.append([node_x_cord_list[stop],node_y_cord_list[stop]])\n",
    "            edge_list.append(cord_list)\n",
    "\n",
    "    return edge_list"
   ]
  },
  {
   "cell_type": "code",
   "execution_count": 175,
   "metadata": {},
   "outputs": [
    {
     "data": {
      "image/png": "[encoded data removed]",
      "text/plain": [
       "<Figure size 720x720 with 1 Axes>"
      ]
     },
     "metadata": {
      "needs_background": "light"
     },
     "output_type": "display_data"
    }
   ],
   "source": [
    "def show_graph(data):\n",
    "    x_point_list, y_point_list, id_point_list = get_point_coord(data)\n",
    "    plt.rcParams[\"figure.figsize\"] = [10, 10]\n",
    "    plt.rcParams[\"figure.autolayout\"] = True\n",
    "\n",
    "    plt.plot(x_point_list, y_point_list, 'o')\n",
    "\n",
    "    for i, j in zip(x_point_list, y_point_list):\n",
    "        plt.text(i, j+0.5, '({}, {})'.format(i, j))\n",
    "\n",
    "    for edge in get_edges_coord(data):\n",
    "        x_coord = []\n",
    "        y_coord = []\n",
    "        for point in edge:\n",
    "            x_coord.append(point[0])\n",
    "            y_coord.append(point[1])\n",
    "        plt.plot(x_coord, y_coord)\n",
    "    plt.show()\n",
    "\n",
    "show_graph(data)"
   ]
  },
  {
   "cell_type": "code",
   "execution_count": 176,
   "metadata": {},
   "outputs": [
    {
     "name": "stdout",
     "output_type": "stream",
     "text": [
      "the coordinates are valid ! \n"
     ]
    },
    {
     "data": {
      "text/plain": [
       "True"
      ]
     },
     "execution_count": 176,
     "metadata": {},
     "output_type": "execute_result"
    }
   ],
   "source": [
    "def check_int_coordinates(data) :\n",
    "\n",
    "    x_cord_list = []\n",
    "    y_cord_list = []\n",
    "    id_cord_list = []\n",
    "    node_list = data.get('nodes')\n",
    "    for node in node_list:\n",
    "        x_cord_list.append(node.get('x'))\n",
    "        y_cord_list.append(node.get('y'))\n",
    "        id_cord_list.append(node.get('id'))\n",
    "    \n",
    "    valid = True\n",
    "\n",
    "    for value in x_cord_list:   \n",
    "        if isinstance(value, int) == False:\n",
    "            valid = False\n",
    "    \n",
    "    for value in y_cord_list:   \n",
    "        if isinstance(value, int) == False:\n",
    "            valid = False\n",
    "    \n",
    "    if valid:\n",
    "        print('the coordinates are valid ! ')\n",
    "    else:\n",
    "        print('the coordinates are not valid ! ')\n",
    "\n",
    "    return valid\n",
    "\n",
    "check_int_coordinates(data)"
   ]
  },
  {
   "cell_type": "code",
   "execution_count": 177,
   "metadata": {},
   "outputs": [
    {
     "name": "stdout",
     "output_type": "stream",
     "text": [
      "there is  3 bend(s) and you wanted a maximum of 5 bend.\n"
     ]
    },
    {
     "data": {
      "text/plain": [
       "True"
      ]
     },
     "execution_count": 177,
     "metadata": {},
     "output_type": "execute_result"
    }
   ],
   "source": [
    "def number_of_bend(data, max_bend_wanted) :\n",
    "\n",
    "    max_bend = 0\n",
    "\n",
    "    node_x_cord_list = []\n",
    "    node_y_cord_list = []\n",
    "    node_list = data.get('nodes')\n",
    "    for node in node_list:\n",
    "        node_x_cord_list.append(node.get('x'))\n",
    "        node_y_cord_list.append(node.get('y'))\n",
    "    \n",
    "    edge_list = []\n",
    "    edge_description = data.get('edges')\n",
    "\n",
    "    for edge in edge_description:\n",
    "        cord_list = []\n",
    "        start = edge.get('source')\n",
    "        stop  = edge.get('target')\n",
    "        bend_list = edge.get('bends')\n",
    "\n",
    "        bend_actual = 0\n",
    "\n",
    "        if bend_list != None:\n",
    "            \n",
    "            cord_list.append([node_x_cord_list[start],node_y_cord_list[start]])\n",
    "            for bend in bend_list:\n",
    "                cord_list.append([bend.get('x'),bend.get('y')])\n",
    "                bend_actual +=1\n",
    "            if bend_actual > max_bend:\n",
    "                max_bend = bend_actual\n",
    "\n",
    "            cord_list.append([node_x_cord_list[stop],node_y_cord_list[stop]])\n",
    "\n",
    "            edge_list.append(cord_list)\n",
    "        else:\n",
    "            cord_list.append([node_x_cord_list[start],node_y_cord_list[start]])\n",
    "            cord_list.append([node_x_cord_list[stop],node_y_cord_list[stop]])\n",
    "            edge_list.append(cord_list)\n",
    "    \n",
    "    print('there is ',max_bend, 'bend(s) and you wanted a maximum of', max_bend_wanted, 'bend.')\n",
    "    return max_bend < max_bend_wanted\n",
    "\n",
    "number_of_bend(data,5)\n",
    "    "
   ]
  },
  {
   "cell_type": "code",
   "execution_count": 178,
   "metadata": {},
   "outputs": [
    {
     "name": "stdout",
     "output_type": "stream",
     "text": [
      "there is no intersection\n"
     ]
    },
    {
     "data": {
      "text/plain": [
       "False"
      ]
     },
     "execution_count": 178,
     "metadata": {},
     "output_type": "execute_result"
    }
   ],
   "source": [
    "\"\"\"\n",
    "Input a dictionnary with nodes and edges, extract for each edges : the id of the starting point (is matched with the coordinate of the point), \n",
    "the id of the ending point (is matched with the coordinate of the point) and the coordinates of the bends and output it in this format : \n",
    "\n",
    "segment = [\n",
    "    [\n",
    "        [x1,y1],[x2,y2]\n",
    "    ]\n",
    "\n",
    "    [\n",
    "        [x3,y3],[x4,y4]\n",
    "    ]\n",
    "]\n",
    "Parameters\n",
    "----------\n",
    "data : str\n",
    "    the dictionnary containing the nodes informations\n",
    "\n",
    "\"\"\"\n",
    "\n",
    "\n",
    "def get_orientation(point1, point2, point3):\n",
    "    \n",
    "    x1,y1 = point1\n",
    "    x2,y2 = point2\n",
    "    x3,y3 = point3\n",
    "\n",
    "    result = (y2 - y1)*(x3 - x2) - (y3 - y2)*(x2 - x1)\n",
    "\n",
    "    if point1 == point2 or point1 == point3:\n",
    "        result =0\n",
    "\n",
    "    if result < 0:\n",
    "        return 'counterclockwise'\n",
    "    elif result > 0 : \n",
    "        return 'clockwise'\n",
    "\n",
    "def segment_intersection(segment1, segment2):\n",
    "    point1, point2 = segment1\n",
    "    point3, point4 = segment2\n",
    "\n",
    "    if get_orientation(point1, point2, point3) != get_orientation(point1, point2, point4):\n",
    "        if get_orientation(point3, point4, point1) != get_orientation(point3, point4, point2):\n",
    "            return True\n",
    "        else: \n",
    "            return False\n",
    "    else:\n",
    "        return False\n",
    "\n",
    "\n",
    "def edges_crossing(data):\n",
    "    edge_list = get_edges_coord(data)\n",
    "    segment_list = []\n",
    "\n",
    "    for edge in edge_list:\n",
    "        for i in range(len(edge)-1):\n",
    "            segment_list.append([edge[i],edge[i+1]])\n",
    "    segment_list\n",
    "\n",
    "    \n",
    "    result = False\n",
    "    for segment1 in segment_list:\n",
    "        for segment2 in segment_list:\n",
    "            point1, point2 = segment1\n",
    "            point3, point4 = segment1\n",
    "\n",
    "            if point1 != point3 and point1 != point4 and point2 != point3 and point3 != point4:\n",
    "                if segment_intersection(segment1, segment2) == True:\n",
    "                    print('there is an intersection between',segment1, 'and',segment2)\n",
    "                    result = True\n",
    "                    return result\n",
    "    if result == False:\n",
    "        print('there is no intersection')\n",
    "        return result\n",
    "\n",
    "edges_crossing(data)        "
   ]
  },
  {
   "cell_type": "code",
   "execution_count": 179,
   "metadata": {},
   "outputs": [
    {
     "data": {
      "text/plain": [
       "10.0"
      ]
     },
     "execution_count": 179,
     "metadata": {},
     "output_type": "execute_result"
    }
   ],
   "source": [
    "def euclidian_distance(point1, point2):\n",
    "    x1,y1 = point1\n",
    "    x2, y2 = point2\n",
    "    return math.sqrt((x2-x1)**2 + (y2-y1)**2)\n",
    "\n",
    "def compute_edge_length(data):\n",
    "    edge_list = get_edges_coord(data)\n",
    "    edge_length_list = []\n",
    "\n",
    "    for edge in edge_list:\n",
    "        edge_length = 0\n",
    "        for i in range(len(edge)-1):\n",
    "            point1 = edge[i][0],edge[i][1]\n",
    "            point2 = edge[i+1][0], edge[i+1][1]\n",
    "            edge_length += euclidian_distance(point1, point2)\n",
    "        edge_length_list.append(edge_length)\n",
    "    return edge_length_list\n",
    "\n",
    "def compute_ratio(data):\n",
    "    edge_length = compute_edge_length(data)\n",
    "\n",
    "    minima = min(edge_length)\n",
    "    maxima = max(edge_length)\n",
    "\n",
    "    return maxima/minima\n",
    "\n",
    "compute_ratio(data)"
   ]
  },
  {
   "cell_type": "code",
   "execution_count": 180,
   "metadata": {},
   "outputs": [],
   "source": [
    "#idea : place each vextex at the barycenter of its neighbour \n",
    "# Fu(t) = Somme(attraction(uv)) + somme (repulsion(uv))\n",
    "# baricenter (x1..xk) = Somme(xi)/k"
   ]
  },
  {
   "cell_type": "code",
   "execution_count": 181,
   "metadata": {},
   "outputs": [],
   "source": [
    "def find_neighbour(data):\n",
    "    vertex_list = []\n",
    "    neighbour_list = []\n",
    "    edge_list = get_edges_coord(data)\n",
    "    node_list = data.get('nodes')\n",
    "    for node in node_list:\n",
    "        vertex_list.append(((node.get('x')), node.get('y')))\n",
    "    \n",
    "    for vertex in vertex_list:\n",
    "        x = vertex[0]\n",
    "        y = vertex[1]\n",
    "\n",
    "        neighbour = []\n",
    "\n",
    "        for edge in edge_list:\n",
    "            for i in range(len(edge)):\n",
    "                x_bend = edge[i][0]\n",
    "                y_bend = edge[i][1]\n",
    "\n",
    "                if x_bend == x and y_bend == y:\n",
    "                    if i==0:\n",
    "                        if (edge[i+1][0], edge[i+1][1]) in vertex_list:\n",
    "                            neighbour.append((edge[i+1][0], edge[i+1][1]))\n",
    "                        \n",
    "                    if i==len(edge)-1:\n",
    "                        if (edge[i-1][0], edge[i-1][1]) in vertex_list:\n",
    "                            neighbour.append((edge[i-1][0], edge[i-1][1]))\n",
    "\n",
    "                    if (i !=0) and (i != len(edge)-1):\n",
    "                        if (edge[i-1][0], edge[i-1][1]) in vertex_list and (edge[i+1][0], edge[i+1][1]) in vertex_list:\n",
    "                            neighbour.append((edge[i-1][0], edge[i-1][1]))\n",
    "                            neighbour.append((edge[i+1][0], edge[i+1][1]))\n",
    "        neighbour_list.append(neighbour)\n",
    "    return neighbour_list\n",
    "    "
   ]
  },
  {
   "cell_type": "code",
   "execution_count": 182,
   "metadata": {},
   "outputs": [],
   "source": [
    "def compute_centroid(polygon):\n",
    "    x_cords = []\n",
    "    y_cords = []\n",
    "    for point in polygon:\n",
    "        x_cords.append(point[0])\n",
    "        y_cords.append(point[1])\n",
    "    x_centroid = 0\n",
    "    y_centroid = 0\n",
    "    for x in x_cords:\n",
    "        x_centroid += int(x)\n",
    "\n",
    "    for y in y_cords:\n",
    "        y_centroid +=int(y)\n",
    "    \n",
    "    \n",
    "    return (x_centroid/len(polygon), y_centroid/len(polygon))\n",
    "\n",
    "\n",
    "def compute_all_centroid(data):\n",
    "    neighbour_list = find_neighbour(data)\n",
    "    centroids = []\n",
    "    for cycle in neighbour_list:\n",
    "        centroids.append(compute_centroid(cycle))\n",
    "    return centroids\n"
   ]
  },
  {
   "cell_type": "code",
   "execution_count": 183,
   "metadata": {},
   "outputs": [],
   "source": [
    "def update_point(id, new_cords, data):\n",
    "    data.get('nodes')[id].update({\"x\":new_cords[0]})\n",
    "    data.get('nodes')[id].update({\"y\":new_cords[1]})\n",
    "    return data\n"
   ]
  },
  {
   "cell_type": "code",
   "execution_count": 184,
   "metadata": {},
   "outputs": [
    {
     "ename": "ZeroDivisionError",
     "evalue": "division by zero",
     "output_type": "error",
     "traceback": [
      "\u001b[1;31m---------------------------------------------------------------------------\u001b[0m",
      "\u001b[1;31mZeroDivisionError\u001b[0m                         Traceback (most recent call last)",
      "\u001b[1;32m~\\AppData\\Local\\Temp\\ipykernel_5852\\2840676173.py\u001b[0m in \u001b[0;36m<module>\u001b[1;34m\u001b[0m\n\u001b[1;32m----> 1\u001b[1;33m \u001b[0mnew_points\u001b[0m \u001b[1;33m=\u001b[0m \u001b[0mcompute_all_centroid\u001b[0m\u001b[1;33m(\u001b[0m\u001b[0mdata\u001b[0m\u001b[1;33m)\u001b[0m\u001b[1;33m\u001b[0m\u001b[1;33m\u001b[0m\u001b[0m\n\u001b[0m\u001b[0;32m      2\u001b[0m \u001b[1;32mfor\u001b[0m \u001b[0mcount\u001b[0m\u001b[1;33m,\u001b[0m \u001b[0mpoints\u001b[0m\u001b[1;33m,\u001b[0m \u001b[1;32min\u001b[0m \u001b[0menumerate\u001b[0m\u001b[1;33m(\u001b[0m\u001b[0mnew_points\u001b[0m\u001b[1;33m)\u001b[0m\u001b[1;33m:\u001b[0m\u001b[1;33m\u001b[0m\u001b[1;33m\u001b[0m\u001b[0m\n\u001b[0;32m      3\u001b[0m     \u001b[0mdata2\u001b[0m \u001b[1;33m=\u001b[0m \u001b[0mupdate_point\u001b[0m\u001b[1;33m(\u001b[0m\u001b[0mcount\u001b[0m\u001b[1;33m,\u001b[0m\u001b[0mpoints\u001b[0m\u001b[1;33m,\u001b[0m \u001b[0mdata\u001b[0m\u001b[1;33m)\u001b[0m\u001b[1;33m\u001b[0m\u001b[1;33m\u001b[0m\u001b[0m\n\u001b[0;32m      4\u001b[0m \u001b[1;33m\u001b[0m\u001b[0m\n\u001b[0;32m      5\u001b[0m \u001b[0mshow_graph\u001b[0m\u001b[1;33m(\u001b[0m\u001b[0mdata2\u001b[0m\u001b[1;33m)\u001b[0m\u001b[1;33m\u001b[0m\u001b[1;33m\u001b[0m\u001b[0m\n",
      "\u001b[1;32m~\\AppData\\Local\\Temp\\ipykernel_5852\\2089355032.py\u001b[0m in \u001b[0;36mcompute_all_centroid\u001b[1;34m(data)\u001b[0m\n\u001b[0;32m     20\u001b[0m     \u001b[0mcentroids\u001b[0m \u001b[1;33m=\u001b[0m \u001b[1;33m[\u001b[0m\u001b[1;33m]\u001b[0m\u001b[1;33m\u001b[0m\u001b[1;33m\u001b[0m\u001b[0m\n\u001b[0;32m     21\u001b[0m     \u001b[1;32mfor\u001b[0m \u001b[0mcycle\u001b[0m \u001b[1;32min\u001b[0m \u001b[0mneighbour_list\u001b[0m\u001b[1;33m:\u001b[0m\u001b[1;33m\u001b[0m\u001b[1;33m\u001b[0m\u001b[0m\n\u001b[1;32m---> 22\u001b[1;33m         \u001b[0mcentroids\u001b[0m\u001b[1;33m.\u001b[0m\u001b[0mappend\u001b[0m\u001b[1;33m(\u001b[0m\u001b[0mcompute_centroid\u001b[0m\u001b[1;33m(\u001b[0m\u001b[0mcycle\u001b[0m\u001b[1;33m)\u001b[0m\u001b[1;33m)\u001b[0m\u001b[1;33m\u001b[0m\u001b[1;33m\u001b[0m\u001b[0m\n\u001b[0m\u001b[0;32m     23\u001b[0m     \u001b[1;32mreturn\u001b[0m \u001b[0mcentroids\u001b[0m\u001b[1;33m\u001b[0m\u001b[1;33m\u001b[0m\u001b[0m\n",
      "\u001b[1;32m~\\AppData\\Local\\Temp\\ipykernel_5852\\2089355032.py\u001b[0m in \u001b[0;36mcompute_centroid\u001b[1;34m(polygon)\u001b[0m\n\u001b[0;32m     13\u001b[0m         \u001b[0my_centroid\u001b[0m \u001b[1;33m+=\u001b[0m\u001b[0mint\u001b[0m\u001b[1;33m(\u001b[0m\u001b[0my\u001b[0m\u001b[1;33m)\u001b[0m\u001b[1;33m\u001b[0m\u001b[1;33m\u001b[0m\u001b[0m\n\u001b[0;32m     14\u001b[0m \u001b[1;33m\u001b[0m\u001b[0m\n\u001b[1;32m---> 15\u001b[1;33m     \u001b[1;32mreturn\u001b[0m \u001b[1;33m(\u001b[0m\u001b[0mx_centroid\u001b[0m\u001b[1;33m/\u001b[0m\u001b[0mlen\u001b[0m\u001b[1;33m(\u001b[0m\u001b[0mpolygon\u001b[0m\u001b[1;33m)\u001b[0m\u001b[1;33m,\u001b[0m \u001b[0my_centroid\u001b[0m\u001b[1;33m/\u001b[0m\u001b[0mlen\u001b[0m\u001b[1;33m(\u001b[0m\u001b[0mpolygon\u001b[0m\u001b[1;33m)\u001b[0m\u001b[1;33m)\u001b[0m\u001b[1;33m\u001b[0m\u001b[1;33m\u001b[0m\u001b[0m\n\u001b[0m\u001b[0;32m     16\u001b[0m \u001b[1;33m\u001b[0m\u001b[0m\n\u001b[0;32m     17\u001b[0m \u001b[1;33m\u001b[0m\u001b[0m\n",
      "\u001b[1;31mZeroDivisionError\u001b[0m: division by zero"
     ]
    }
   ],
   "source": [
    "new_points = compute_all_centroid(data)\n",
    "for count, points, in enumerate(new_points):\n",
    "    data2 = update_point(count,points, data)\n",
    "\n",
    "show_graph(data2)"
   ]
  },
  {
   "cell_type": "code",
   "execution_count": null,
   "metadata": {},
   "outputs": [
    {
     "data": {
      "text/plain": [
       "{'nodes': [{'id': 0, 'x': 15.5, 'y': 6.5},\n",
       "  {'id': 1, 'x': 6.5, 'y': 6.5},\n",
       "  {'id': 2, 'x': 11.75, 'y': 6.5},\n",
       "  {'id': 3, 'x': 8.75, 'y': 6.5},\n",
       "  {'id': 4, 'x': 15.0, 'y': 7.0},\n",
       "  {'id': 5, 'x': 10.25, 'y': 6.5},\n",
       "  {'id': 6, 'x': 13.25, 'y': 6.5},\n",
       "  {'id': 7, 'x': 14.75, 'y': 6.5},\n",
       "  {'id': 8, 'x': 7.25, 'y': 6.5},\n",
       "  {'id': 9, 'x': 7.0, 'y': 6.0}],\n",
       " 'edges': [{'source': 2,\n",
       "   'target': 8,\n",
       "   'bends': [{'x': 3, 'y': 10}, {'x': 3, 'y': 3}]},\n",
       "  {'source': 9, 'target': 1},\n",
       "  {'source': 7, 'target': 6},\n",
       "  {'source': 4, 'target': 7},\n",
       "  {'source': 8, 'target': 1},\n",
       "  {'source': 6, 'target': 2},\n",
       "  {'source': 2, 'target': 5},\n",
       "  {'source': 0, 'target': 6, 'bends': [{'x': 1, 'y': 12}, {'x': 1, 'y': 1}]},\n",
       "  {'source': 7, 'target': 5, 'bends': [{'x': 2, 'y': 11}, {'x': 2, 'y': 2}]},\n",
       "  {'source': 8, 'target': 9},\n",
       "  {'source': 5, 'target': 3},\n",
       "  {'source': 3, 'target': 9},\n",
       "  {'source': 2, 'target': 3},\n",
       "  {'source': 5, 'target': 8},\n",
       "  {'source': 7, 'target': 2},\n",
       "  {'source': 6, 'target': 5},\n",
       "  {'source': 3, 'target': 8},\n",
       "  {'source': 4, 'target': 6},\n",
       "  {'source': 0, 'target': 7},\n",
       "  {'source': 3, 'target': 1, 'bends': [{'x': 4, 'y': 9}, {'x': 4, 'y': 4}]},\n",
       "  {'source': 0, 'target': 4}],\n",
       " 'width': 18,\n",
       " 'height': 13,\n",
       " 'bends': 2}"
      ]
     },
     "execution_count": 158,
     "metadata": {},
     "output_type": "execute_result"
    }
   ],
   "source": [
    "data2"
   ]
  },
  {
   "cell_type": "code",
   "execution_count": null,
   "metadata": {},
   "outputs": [],
   "source": []
  }
 ],
 "metadata": {
  "kernelspec": {
   "display_name": "Python 3.7.9 64-bit (windows store)",
   "language": "python",
   "name": "python3"
  },
  "language_info": {
   "codemirror_mode": {
    "name": "ipython",
    "version": 3
   },
   "file_extension": ".py",
   "mimetype": "text/x-python",
   "name": "python",
   "nbconvert_exporter": "python",
   "pygments_lexer": "ipython3",
   "version": "3.7.9"
  },
  "orig_nbformat": 4,
  "vscode": {
   "interpreter": {
    "hash": "b633afe7e9f7c0d2ee8836891f8ed36166639df6f479edd63aa46d485a365e4f"
   }
  }
 },
 "nbformat": 4,
 "nbformat_minor": 2
}
